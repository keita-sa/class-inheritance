{
 "cells": [
  {
   "cell_type": "code",
   "execution_count": 1,
   "metadata": {},
   "outputs": [],
   "source": [
    "import numpy as np\n",
    "np.random.seed(123)\n",
    "\n",
    "class Smoke(object):\n",
    "    def __init__(self):\n",
    "        self.con = 1.0\n",
    "        self.x, self.y, self.z = 2.0, 0.0, 0.0\n",
    "        self.vx, self.vy, self.vz = 0.05, 0.0, -0.1\n",
    "        self.fx, self.fy, self.fz = 0.0, 0.0, 0.0\n",
    "    \n",
    "    def get_velocity(self):\n",
    "        return self.vx, self.vy, self.vz\n",
    "    \n",
    "    def dynamics(self, dt):\n",
    "        self.vx, self.vy, self.vz = self.get_velocity()\n",
    "        new_x = self.x + self.vx * dt\n",
    "        new_y = self.y + self.vy * dt\n",
    "        new_z = self.z + self.vz * dt\n",
    "    \n",
    "    def eval_force(self):\n",
    "        self.fx = np.random.randn()\n",
    "        self.fy = np.random.randn()\n",
    "        self.fz = np.random.randn()\n",
    "        \n",
    "    def update_velocity(self, dt):\n",
    "        self.eval_force()\n",
    "        self.vx += self.fx * dt\n",
    "        self.vy += self.fy * dt\n",
    "        self.vz += self.fz * dt"
   ]
  },
  {
   "cell_type": "code",
   "execution_count": 2,
   "metadata": {},
   "outputs": [],
   "source": [
    "class HeavySmoke(Smoke): # 継承するクラスを渡す\n",
    "    def __init__(self):      　    # 継承したクラスでもinitが必要\n",
    "        super().__init__()　　    # 親クラスのメソッドを呼び出す, 親クラスのinitを呼び出す\n",
    "        self.mass = 1.0     　   # Smokeと違いHeavySmokeは質量を持ってる \n",
    "        self.g_const = [0.0, 0.0, -9.8]# 重力の影響を受ける、z軸方向に重力をかける\n",
    "    \n",
    "    def eval_force(self):\n",
    "        self.fx = np.random.randn() + self.mass * self.g_const[0] # 重力が加わる\n",
    "        self.fy = np.random.randn() + self.mass * self.g_const[1]\n",
    "        self.fz = np.random.randn() + self.mass * self.g_const[2]"
   ]
  },
  {
   "cell_type": "code",
   "execution_count": 3,
   "metadata": {},
   "outputs": [],
   "source": [
    "normal_smoke = Smoke()\n",
    "heavy_smoke = HeavySmoke()"
   ]
  },
  {
   "cell_type": "code",
   "execution_count": 4,
   "metadata": {},
   "outputs": [],
   "source": [
    "normal_smoke.eval_force()"
   ]
  },
  {
   "cell_type": "code",
   "execution_count": 5,
   "metadata": {},
   "outputs": [
    {
     "data": {
      "text/plain": [
       "0.28297849805199204"
      ]
     },
     "execution_count": 5,
     "metadata": {},
     "output_type": "execute_result"
    }
   ],
   "source": [
    "normal_smoke.fz"
   ]
  },
  {
   "cell_type": "code",
   "execution_count": 6,
   "metadata": {},
   "outputs": [
    {
     "data": {
      "text/plain": [
       "0.0"
      ]
     },
     "execution_count": 6,
     "metadata": {},
     "output_type": "execute_result"
    }
   ],
   "source": [
    "heavy_smoke.fz"
   ]
  },
  {
   "cell_type": "code",
   "execution_count": null,
   "metadata": {},
   "outputs": [],
   "source": []
  }
 ],
 "metadata": {
  "kernelspec": {
   "display_name": "Python 3 (ipykernel)",
   "language": "python",
   "name": "python3"
  },
  "language_info": {
   "codemirror_mode": {
    "name": "ipython",
    "version": 3
   },
   "file_extension": ".py",
   "mimetype": "text/x-python",
   "name": "python",
   "nbconvert_exporter": "python",
   "pygments_lexer": "ipython3",
   "version": "3.11.3"
  }
 },
 "nbformat": 4,
 "nbformat_minor": 2
}
